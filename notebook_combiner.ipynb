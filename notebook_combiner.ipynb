{
 "cells": [
  {
   "cell_type": "code",
   "execution_count": 14,
   "id": "9ca939bb",
   "metadata": {},
   "outputs": [],
   "source": [
    "import pandas as pd\n",
    "import numpy as np\n",
    "\n",
    "# makelaar data: \n",
    "makelaar_path = r'C:\\Users\\bgriffioen\\OneDrive - STX Commodities B.V\\Desktop\\funda-project\\funda-tool\\data\\makelaar\\makelaar_results_2025-06-23.csv'\n",
    "funda_path = r'C:\\Users\\bgriffioen\\OneDrive - STX Commodities B.V\\Desktop\\funda-project\\funda-tool\\data\\funda\\funda_data_2025-06-23.csv'\n",
    "makelaar_df = pd.read_csv(makelaar_path, sep=\",\")\n",
    "funda_df = pd.read_csv(funda_path, sep=\",\")\n",
    "path = r\"C:\\Users\\bgriffioen\\OneDrive - STX Commodities B.V\\Desktop\\funda-project\\funda-tool\\data\\funda_makelaars_combined_2025-06-23.csv\"\n",
    "combined_df = pd.read_csv(path, sep=\",\")"
   ]
  },
  {
   "cell_type": "code",
   "execution_count": 35,
   "id": "0ab443ea",
   "metadata": {},
   "outputs": [
    {
     "name": "stdout",
     "output_type": "stream",
     "text": [
      "Number of funda listings: 569\n",
      "Number of makelaar listings: 524\n"
     ]
    }
   ],
   "source": [
    "# df if m2 = 1 convert to nan\n",
    "combined_df.loc[combined_df['m2'] == 1, 'm2'] = np.nan\n",
    "combined_df['price/m2'] = combined_df['price'] / combined_df['m2']\n",
    "\n",
    "# print( number of funda listings:)\n",
    "# funda source == 'sourc\n",
    "# Print number of funda listings\n",
    "funda_listings = combined_df[combined_df['source'].isin(['funda', 'both'])]\n",
    "print(\"Number of funda listings:\", len(funda_listings))\n",
    "\n",
    "makelaar_listings = combined_df[combined_df['source'].isin(['makelaar', 'both'])]\n",
    "print(\"Number of makelaar listings:\", len(makelaar_listings))"
   ]
  },
  {
   "cell_type": "code",
   "execution_count": null,
   "id": "81bd6267",
   "metadata": {},
   "outputs": [
    {
     "name": "stdout",
     "output_type": "stream",
     "text": [
      "Number of common listings based on street and number: 45\n",
      "Number of common listings based on latitude and longitude: 1656\n"
     ]
    }
   ],
   "source": [
    "\n",
    "# makelaar_df street, number_extension,latitude, longitude,url\n",
    "makelaar_df = makelaar_df[['street', 'number_extension', 'latitude', 'longitude', 'url']]\n",
    "# funda_df street_name, number url ,lat, lon\n",
    "funda_df = funda_df[['street_name', 'number', 'url', 'lat', 'lon']]\n",
    "\n",
    "# number_no_extension, take only the first part of the street name\n",
    "makelaar_df['number_clean'] = makelaar_df['number_extension'].str.split(' ').str[0]\n",
    "funda_df['number_clean'] = funda_df['number'].astype(str).str.split(' ').str[0]\n",
    "\n",
    "# how many listings in makelaar_df are also in funda_df \n",
    "# 1. Based on street and number\n",
    "makelaar_df['street_number'] = makelaar_df['street'] + ' ' + makelaar_df['number_clean'].fillna('')\n",
    "funda_df['street_number'] = funda_df['street_name'] + ' ' + funda_df['number_clean'].astype(str)\n",
    "common_listings = makelaar_df[makelaar_df['street_number'].isin(funda_df['street_number'])]\n",
    "print(\"Number of common listings based on street and number:\", len(common_listings))\n",
    "\n"
   ]
  },
  {
   "cell_type": "code",
   "execution_count": null,
   "id": "738ec78f",
   "metadata": {},
   "outputs": [
    {
     "name": "stdout",
     "output_type": "stream",
     "text": [
      "Number of common listings based on latitude and longitude: 164\n"
     ]
    }
   ],
   "source": [
    "# Drop rows with missing coordinates\n",
    "makelaar_coords = makelaar_df.dropna(subset=['latitude', 'longitude']).copy()\n",
    "funda_coords = funda_df.dropna(subset=['lat', 'lon']).copy()\n",
    "\n",
    "# Perform a cross join using pandas merge with 'how=\"cross\"'\n",
    "cross = makelaar_coords.merge(funda_coords, how='cross', suffixes=('_makelaar', '_funda'))\n",
    "\n",
    "# Filter by latitude and longitude difference within tolerance\n",
    "tolerance = 0.0001  # Define a tolerance for latitude and longitude comparison\n",
    "common = cross[\n",
    "    (np.abs(cross['latitude'] - cross['lat']) < tolerance) &\n",
    "    (np.abs(cross['longitude'] - cross['lon']) < tolerance)\n",
    "]\n",
    "\n",
    "print(\"Number of common listings based on latitude and longitude:\", len(common))"
   ]
  },
  {
   "cell_type": "code",
   "execution_count": 32,
   "id": "d17594b3",
   "metadata": {},
   "outputs": [
    {
     "name": "stdout",
     "output_type": "stream",
     "text": [
      "Number of funda listings also in makelaar listings (lat/lon): 164\n"
     ]
    }
   ],
   "source": [
    "# Cross join funda_coords to makelaar_coords\n",
    "cross_funda_to_makelaar = funda_coords.merge(makelaar_coords, how='cross', suffixes=('_funda', '_makelaar'))\n",
    "\n",
    "# Filter by latitude and longitude difference within tolerance\n",
    "common_funda_to_makelaar = cross_funda_to_makelaar[\n",
    "    (np.abs(cross_funda_to_makelaar['lat'] - cross_funda_to_makelaar['latitude']) < tolerance) &\n",
    "    (np.abs(cross_funda_to_makelaar['lon'] - cross_funda_to_makelaar['longitude']) < tolerance)\n",
    "]\n",
    "\n",
    "print(\"Number of funda listings also in makelaar listings (lat/lon):\", len(common_funda_to_makelaar))\n"
   ]
  }
 ],
 "metadata": {
  "kernelspec": {
   "display_name": ".venv",
   "language": "python",
   "name": "python3"
  },
  "language_info": {
   "codemirror_mode": {
    "name": "ipython",
    "version": 3
   },
   "file_extension": ".py",
   "mimetype": "text/x-python",
   "name": "python",
   "nbconvert_exporter": "python",
   "pygments_lexer": "ipython3",
   "version": "3.11.8"
  }
 },
 "nbformat": 4,
 "nbformat_minor": 5
}
